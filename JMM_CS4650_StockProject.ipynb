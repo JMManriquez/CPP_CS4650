{
 "cells": [
  {
   "cell_type": "markdown",
   "metadata": {},
   "source": [
    "# CS 4650 Final Project"
   ]
  },
  {
   "cell_type": "markdown",
   "metadata": {},
   "source": [
    "#### I am planning on doing more research to develop and test my stocks algorithm. I still need to do more studying; however, I did develop some code for getting live data from the market, which is below."
   ]
  },
  {
   "cell_type": "markdown",
   "metadata": {},
   "source": []
  },
  {
   "cell_type": "code",
   "execution_count": 5,
   "metadata": {},
   "outputs": [
    {
     "name": "stdout",
     "output_type": "stream",
     "text": [
      "Collecting yfinance\n",
      "  Downloading yfinance-0.1.66-py2.py3-none-any.whl (25 kB)\n",
      "Requirement already satisfied: requests>=2.20 in c:\\users\\juanj\\appdata\\local\\programs\\python\\python310\\lib\\site-packages (from yfinance) (2.25.1)\n",
      "Requirement already satisfied: pandas>=0.24 in c:\\users\\juanj\\appdata\\local\\programs\\python\\python310\\lib\\site-packages (from yfinance) (1.3.4)\n",
      "Collecting lxml>=4.5.1\n",
      "  Using cached lxml-4.6.4-cp310-cp310-win_amd64.whl (3.5 MB)\n",
      "Requirement already satisfied: numpy>=1.15 in c:\\users\\juanj\\appdata\\local\\programs\\python\\python310\\lib\\site-packages (from yfinance) (1.21.3)\n",
      "Collecting multitasking>=0.0.7\n",
      "  Downloading multitasking-0.0.10.tar.gz (8.2 kB)\n",
      "  Preparing metadata (setup.py): started\n",
      "  Preparing metadata (setup.py): finished with status 'done'\n",
      "Requirement already satisfied: python-dateutil>=2.7.3 in c:\\users\\juanj\\appdata\\local\\programs\\python\\python310\\lib\\site-packages (from pandas>=0.24->yfinance) (2.8.2)\n",
      "Requirement already satisfied: pytz>=2017.3 in c:\\users\\juanj\\appdata\\local\\programs\\python\\python310\\lib\\site-packages (from pandas>=0.24->yfinance) (2021.3)\n",
      "Requirement already satisfied: urllib3<1.27,>=1.21.1 in c:\\users\\juanj\\appdata\\local\\programs\\python\\python310\\lib\\site-packages (from requests>=2.20->yfinance) (1.26.7)\n",
      "Requirement already satisfied: idna<3,>=2.5 in c:\\users\\juanj\\appdata\\local\\programs\\python\\python310\\lib\\site-packages (from requests>=2.20->yfinance) (2.10)\n",
      "Requirement already satisfied: chardet<5,>=3.0.2 in c:\\users\\juanj\\appdata\\local\\programs\\python\\python310\\lib\\site-packages (from requests>=2.20->yfinance) (4.0.0)\n",
      "Requirement already satisfied: certifi>=2017.4.17 in c:\\users\\juanj\\appdata\\local\\programs\\python\\python310\\lib\\site-packages (from requests>=2.20->yfinance) (2021.10.8)\n",
      "Requirement already satisfied: six>=1.5 in c:\\users\\juanj\\appdata\\local\\programs\\python\\python310\\lib\\site-packages (from python-dateutil>=2.7.3->pandas>=0.24->yfinance) (1.16.0)\n",
      "Building wheels for collected packages: multitasking\n",
      "  Building wheel for multitasking (setup.py): started\n",
      "  Building wheel for multitasking (setup.py): finished with status 'done'\n",
      "  Created wheel for multitasking: filename=multitasking-0.0.10-py3-none-any.whl size=8500 sha256=f0c0fb99a260d9842d4a7faeed73bf227a3ccc163b8ff72d445b7df145705052\n",
      "  Stored in directory: c:\\users\\juanj\\appdata\\local\\pip\\cache\\wheels\\94\\f0\\94\\cb5d98a5536d62811bb509b22bd2597d5bd7154752299383d3\n",
      "Successfully built multitasking\n",
      "Installing collected packages: multitasking, lxml, yfinance\n",
      "Successfully installed lxml-4.6.4 multitasking-0.0.10 yfinance-0.1.66\n",
      "Note: you may need to restart the kernel to use updated packages.\n"
     ]
    },
    {
     "name": "stderr",
     "output_type": "stream",
     "text": [
      "  WARNING: The script sample.exe is installed in 'C:\\Users\\juanj\\AppData\\Local\\Programs\\Python\\Python310\\Scripts' which is not on PATH.\n",
      "  Consider adding this directory to PATH or, if you prefer to suppress this warning, use --no-warn-script-location.\n"
     ]
    }
   ],
   "source": [
    "pip install yfinance"
   ]
  },
  {
   "cell_type": "code",
   "execution_count": 6,
   "metadata": {},
   "outputs": [
    {
     "name": "stdout",
     "output_type": "stream",
     "text": [
      "Collecting plotly\n",
      "  Downloading plotly-5.4.0-py2.py3-none-any.whl (25.3 MB)\n",
      "Requirement already satisfied: six in c:\\users\\juanj\\appdata\\local\\programs\\python\\python310\\lib\\site-packages (from plotly) (1.16.0)\n",
      "Collecting tenacity>=6.2.0\n",
      "  Downloading tenacity-8.0.1-py3-none-any.whl (24 kB)\n",
      "Installing collected packages: tenacity, plotly\n",
      "Successfully installed plotly-5.4.0 tenacity-8.0.1\n",
      "Note: you may need to restart the kernel to use updated packages.\n"
     ]
    }
   ],
   "source": [
    "pip install plotly"
   ]
  },
  {
   "cell_type": "code",
   "execution_count": 9,
   "metadata": {},
   "outputs": [],
   "source": [
    "import numpy\n",
    "import pandas as pd\n",
    "import yfinance as yf\n",
    "import plotly.graph_objs as go"
   ]
  },
  {
   "cell_type": "code",
   "execution_count": 11,
   "metadata": {},
   "outputs": [
    {
     "name": "stdout",
     "output_type": "stream",
     "text": [
      "[*********************100%***********************]  1 of 1 completed\n"
     ]
    },
    {
     "data": {
      "text/html": [
       "<div>\n",
       "<style scoped>\n",
       "    .dataframe tbody tr th:only-of-type {\n",
       "        vertical-align: middle;\n",
       "    }\n",
       "\n",
       "    .dataframe tbody tr th {\n",
       "        vertical-align: top;\n",
       "    }\n",
       "\n",
       "    .dataframe thead th {\n",
       "        text-align: right;\n",
       "    }\n",
       "</style>\n",
       "<table border=\"1\" class=\"dataframe\">\n",
       "  <thead>\n",
       "    <tr style=\"text-align: right;\">\n",
       "      <th></th>\n",
       "      <th>Open</th>\n",
       "      <th>High</th>\n",
       "      <th>Low</th>\n",
       "      <th>Close</th>\n",
       "      <th>Adj Close</th>\n",
       "      <th>Volume</th>\n",
       "    </tr>\n",
       "    <tr>\n",
       "      <th>Datetime</th>\n",
       "      <th></th>\n",
       "      <th></th>\n",
       "      <th></th>\n",
       "      <th></th>\n",
       "      <th></th>\n",
       "      <th></th>\n",
       "    </tr>\n",
       "  </thead>\n",
       "  <tbody>\n",
       "    <tr>\n",
       "      <th>2021-11-15 09:30:00-05:00</th>\n",
       "      <td>150.369995</td>\n",
       "      <td>150.800003</td>\n",
       "      <td>150.289993</td>\n",
       "      <td>150.779999</td>\n",
       "      <td>150.779999</td>\n",
       "      <td>2052956</td>\n",
       "    </tr>\n",
       "    <tr>\n",
       "      <th>2021-11-15 09:31:00-05:00</th>\n",
       "      <td>150.809998</td>\n",
       "      <td>151.220001</td>\n",
       "      <td>150.789993</td>\n",
       "      <td>151.179993</td>\n",
       "      <td>151.179993</td>\n",
       "      <td>615526</td>\n",
       "    </tr>\n",
       "    <tr>\n",
       "      <th>2021-11-15 09:32:00-05:00</th>\n",
       "      <td>151.190002</td>\n",
       "      <td>151.429993</td>\n",
       "      <td>151.119995</td>\n",
       "      <td>151.156204</td>\n",
       "      <td>151.156204</td>\n",
       "      <td>521593</td>\n",
       "    </tr>\n",
       "    <tr>\n",
       "      <th>2021-11-15 09:33:00-05:00</th>\n",
       "      <td>151.164993</td>\n",
       "      <td>151.360001</td>\n",
       "      <td>151.139999</td>\n",
       "      <td>151.270004</td>\n",
       "      <td>151.270004</td>\n",
       "      <td>334812</td>\n",
       "    </tr>\n",
       "    <tr>\n",
       "      <th>2021-11-15 09:34:00-05:00</th>\n",
       "      <td>151.250000</td>\n",
       "      <td>151.374207</td>\n",
       "      <td>151.229996</td>\n",
       "      <td>151.320007</td>\n",
       "      <td>151.320007</td>\n",
       "      <td>363213</td>\n",
       "    </tr>\n",
       "    <tr>\n",
       "      <th>...</th>\n",
       "      <td>...</td>\n",
       "      <td>...</td>\n",
       "      <td>...</td>\n",
       "      <td>...</td>\n",
       "      <td>...</td>\n",
       "      <td>...</td>\n",
       "    </tr>\n",
       "    <tr>\n",
       "      <th>2021-11-19 15:55:00-05:00</th>\n",
       "      <td>160.324997</td>\n",
       "      <td>160.380005</td>\n",
       "      <td>160.309998</td>\n",
       "      <td>160.339996</td>\n",
       "      <td>160.339996</td>\n",
       "      <td>524498</td>\n",
       "    </tr>\n",
       "    <tr>\n",
       "      <th>2021-11-19 15:56:00-05:00</th>\n",
       "      <td>160.339996</td>\n",
       "      <td>160.399994</td>\n",
       "      <td>160.320007</td>\n",
       "      <td>160.320007</td>\n",
       "      <td>160.320007</td>\n",
       "      <td>478400</td>\n",
       "    </tr>\n",
       "    <tr>\n",
       "      <th>2021-11-19 15:57:00-05:00</th>\n",
       "      <td>160.315002</td>\n",
       "      <td>160.490005</td>\n",
       "      <td>160.315002</td>\n",
       "      <td>160.479996</td>\n",
       "      <td>160.479996</td>\n",
       "      <td>688592</td>\n",
       "    </tr>\n",
       "    <tr>\n",
       "      <th>2021-11-19 15:58:00-05:00</th>\n",
       "      <td>160.479996</td>\n",
       "      <td>160.600006</td>\n",
       "      <td>160.460007</td>\n",
       "      <td>160.559998</td>\n",
       "      <td>160.559998</td>\n",
       "      <td>836929</td>\n",
       "    </tr>\n",
       "    <tr>\n",
       "      <th>2021-11-19 15:59:00-05:00</th>\n",
       "      <td>160.565002</td>\n",
       "      <td>160.720001</td>\n",
       "      <td>160.500000</td>\n",
       "      <td>160.559998</td>\n",
       "      <td>160.559998</td>\n",
       "      <td>1306718</td>\n",
       "    </tr>\n",
       "  </tbody>\n",
       "</table>\n",
       "<p>1943 rows × 6 columns</p>\n",
       "</div>"
      ],
      "text/plain": [
       "                                 Open        High         Low       Close  \\\n",
       "Datetime                                                                    \n",
       "2021-11-15 09:30:00-05:00  150.369995  150.800003  150.289993  150.779999   \n",
       "2021-11-15 09:31:00-05:00  150.809998  151.220001  150.789993  151.179993   \n",
       "2021-11-15 09:32:00-05:00  151.190002  151.429993  151.119995  151.156204   \n",
       "2021-11-15 09:33:00-05:00  151.164993  151.360001  151.139999  151.270004   \n",
       "2021-11-15 09:34:00-05:00  151.250000  151.374207  151.229996  151.320007   \n",
       "...                               ...         ...         ...         ...   \n",
       "2021-11-19 15:55:00-05:00  160.324997  160.380005  160.309998  160.339996   \n",
       "2021-11-19 15:56:00-05:00  160.339996  160.399994  160.320007  160.320007   \n",
       "2021-11-19 15:57:00-05:00  160.315002  160.490005  160.315002  160.479996   \n",
       "2021-11-19 15:58:00-05:00  160.479996  160.600006  160.460007  160.559998   \n",
       "2021-11-19 15:59:00-05:00  160.565002  160.720001  160.500000  160.559998   \n",
       "\n",
       "                            Adj Close   Volume  \n",
       "Datetime                                        \n",
       "2021-11-15 09:30:00-05:00  150.779999  2052956  \n",
       "2021-11-15 09:31:00-05:00  151.179993   615526  \n",
       "2021-11-15 09:32:00-05:00  151.156204   521593  \n",
       "2021-11-15 09:33:00-05:00  151.270004   334812  \n",
       "2021-11-15 09:34:00-05:00  151.320007   363213  \n",
       "...                               ...      ...  \n",
       "2021-11-19 15:55:00-05:00  160.339996   524498  \n",
       "2021-11-19 15:56:00-05:00  160.320007   478400  \n",
       "2021-11-19 15:57:00-05:00  160.479996   688592  \n",
       "2021-11-19 15:58:00-05:00  160.559998   836929  \n",
       "2021-11-19 15:59:00-05:00  160.559998  1306718  \n",
       "\n",
       "[1943 rows x 6 columns]"
      ]
     },
     "execution_count": 11,
     "metadata": {},
     "output_type": "execute_result"
    }
   ],
   "source": [
    "#The Yahoo API needs the following inputs: Tickers, Start and End Date (or Period), and Interval\n",
    "# period is 1 week for this example and interval is one minute from which we will get our data\n",
    "AppleData = yf.download(tickers = 'AAPL', period = '1wk', interval = '1m')\n",
    "\n",
    "#Then we print the data\n",
    "AppleData"
   ]
  },
  {
   "cell_type": "code",
   "execution_count": null,
   "metadata": {},
   "outputs": [],
   "source": []
  }
 ],
 "metadata": {
  "interpreter": {
   "hash": "b023fd888e03a5e0463309672e27f8e3a47f658f2c0d8fbd77747204875644bc"
  },
  "kernelspec": {
   "display_name": "Python 3.10.0 64-bit",
   "name": "python3"
  },
  "language_info": {
   "codemirror_mode": {
    "name": "ipython",
    "version": 3
   },
   "file_extension": ".py",
   "mimetype": "text/x-python",
   "name": "python",
   "nbconvert_exporter": "python",
   "pygments_lexer": "ipython3",
   "version": "3.10.0"
  },
  "orig_nbformat": 4
 },
 "nbformat": 4,
 "nbformat_minor": 2
}
